{
 "cells": [
  {
   "cell_type": "code",
   "execution_count": 50,
   "id": "498e6a5f-cd15-42ae-aaca-30a58bbf2c44",
   "metadata": {},
   "outputs": [
    {
     "name": "stdout",
     "output_type": "stream",
     "text": [
      "positive number\n",
      "this is always prints\n"
     ]
    }
   ],
   "source": [
    "number = 22\n",
    "\n",
    "if number > 0:\n",
    "    print(\"positive number\")\n",
    "elif number == 0:\n",
    "    print(\"zero\")\n",
    "else:\n",
    "    print(\"negative number\")\n",
    "    \n",
    "print(\"this is always prints\")    \n",
    "   \n",
    "        "
   ]
  },
  {
   "cell_type": "code",
   "execution_count": 51,
   "id": "a26c1d50-fd84-488c-9440-6f47b9d17fc5",
   "metadata": {},
   "outputs": [
    {
     "name": "stdout",
     "output_type": "stream",
     "text": [
      "0\n",
      "1\n",
      "2\n",
      "3\n",
      "4\n"
     ]
    }
   ],
   "source": [
    "for i in range(5):\n",
    "    print(i)"
   ]
  },
  {
   "cell_type": "code",
   "execution_count": 52,
   "id": "cc46cddd-6a8d-4f9b-a05b-6bf2551aaab9",
   "metadata": {},
   "outputs": [
    {
     "name": "stdout",
     "output_type": "stream",
     "text": [
      "today is mon\n",
      "today is tue\n",
      "today is wed\n",
      "today is thu\n",
      "today is fri\n",
      "today is sat\n",
      "today is sun\n"
     ]
    }
   ],
   "source": [
    "days=0\n",
    "week=[ 'mon','tue','wed','thu','fri','sat','sun' ]\n",
    "       \n",
    "while days<7:\n",
    "      print(\"today is \" + week[days])\n",
    "      days +=1\n",
    "    # days= days+1"
   ]
  },
  {
   "cell_type": "code",
   "execution_count": 53,
   "id": "19a6265e-d7d9-457d-b407-76be0eaad285",
   "metadata": {},
   "outputs": [
    {
     "data": {
      "text/plain": [
       "'mon'"
      ]
     },
     "execution_count": 53,
     "metadata": {},
     "output_type": "execute_result"
    }
   ],
   "source": [
    "week[0]"
   ]
  },
  {
   "cell_type": "code",
   "execution_count": 54,
   "id": "7f8e3680-7fd7-4a88-945a-a6f08de326ff",
   "metadata": {},
   "outputs": [],
   "source": [
    "# split"
   ]
  },
  {
   "cell_type": "code",
   "execution_count": 55,
   "id": "c458b5c2-78bd-4974-ba35-a9b20a373456",
   "metadata": {},
   "outputs": [
    {
     "data": {
      "text/plain": [
       "['i', 'write', 'code']"
      ]
     },
     "execution_count": 55,
     "metadata": {},
     "output_type": "execute_result"
    }
   ],
   "source": [
    "text=\" i write code\"\n",
    "\n",
    "text.split()"
   ]
  },
  {
   "cell_type": "code",
   "execution_count": 2,
   "id": "3d4e26aa-fa26-4252-a549-04be21d631ed",
   "metadata": {},
   "outputs": [
    {
     "data": {
      "text/plain": [
       "['i', 'love', 'python']"
      ]
     },
     "execution_count": 2,
     "metadata": {},
     "output_type": "execute_result"
    }
   ],
   "source": [
    "text='i love python'\n",
    " \n",
    "text.split()    "
   ]
  },
  {
   "cell_type": "code",
   "execution_count": 5,
   "id": "7a53593a-fb6e-4841-a6ea-2afa57c8c438",
   "metadata": {},
   "outputs": [],
   "source": [
    "def greet():\n",
    "    \n",
    "    message='Hello'\n",
    "    \n",
    "    print(\"local\",message)"
   ]
  },
  {
   "cell_type": "code",
   "execution_count": 6,
   "id": "81ec4294-7114-4435-a48b-1a885d227729",
   "metadata": {},
   "outputs": [
    {
     "name": "stdout",
     "output_type": "stream",
     "text": [
      "local Hello\n"
     ]
    }
   ],
   "source": [
    "greet()"
   ]
  },
  {
   "cell_type": "code",
   "execution_count": 17,
   "id": "694c0b5e-c454-4317-b18e-487bfe84cffc",
   "metadata": {},
   "outputs": [
    {
     "name": "stdout",
     "output_type": "stream",
     "text": [
      "awesome\n"
     ]
    }
   ],
   "source": [
    "x= \"awesome\"\n",
    "#global scope\n",
    "\n",
    "def myfunc():\n",
    "    x=\"fantastic\"\n",
    "    #global scope\n",
    "    print(\"python is \" + x)\n",
    "    \n",
    "    myfunc()\n",
    "print(x)"
   ]
  },
  {
   "cell_type": "code",
   "execution_count": 18,
   "id": "b51e2c47-46db-4859-a579-593f29a2087c",
   "metadata": {},
   "outputs": [],
   "source": [
    "x=20\n",
    "\n",
    "def add():\n",
    "    \n",
    "    y=30\n",
    "    print(\"local variable y=\",y)\n",
    "    \n",
    "    print(\"global variable x=\",x)\n",
    "    \n",
    "    z= x+y\n",
    "    print(z)"
   ]
  },
  {
   "cell_type": "code",
   "execution_count": 19,
   "id": "ecb32d48-15c5-4760-82a4-0a4a2b1f60aa",
   "metadata": {},
   "outputs": [
    {
     "name": "stdout",
     "output_type": "stream",
     "text": [
      "local variable y= 30\n",
      "global variable x= 20\n",
      "50\n"
     ]
    }
   ],
   "source": [
    "add()"
   ]
  },
  {
   "cell_type": "code",
   "execution_count": 20,
   "id": "eb8a27f7-7eb5-4d11-a7cb-dd9233658684",
   "metadata": {},
   "outputs": [],
   "source": [
    "## python Function Arguments"
   ]
  },
  {
   "cell_type": "code",
   "execution_count": 21,
   "id": "1b512b6f-8baf-4caf-a4f2-886961d7194f",
   "metadata": {},
   "outputs": [],
   "source": [
    "def add_numbers(a,b):\n",
    "    sum =a+b\n",
    "    print(\"sum\",sum)"
   ]
  },
  {
   "cell_type": "code",
   "execution_count": 22,
   "id": "99aab781-100b-4977-94de-1bfe3f45215e",
   "metadata": {},
   "outputs": [
    {
     "name": "stdout",
     "output_type": "stream",
     "text": [
      "sum 7\n"
     ]
    }
   ],
   "source": [
    "add_numbers(2,5)"
   ]
  },
  {
   "cell_type": "code",
   "execution_count": 23,
   "id": "a05c9d01-41f7-4bbe-a91c-d4e6af0761fe",
   "metadata": {},
   "outputs": [],
   "source": [
    "def emp_name(name):\n",
    "    print(\"my name is \",name)  "
   ]
  },
  {
   "cell_type": "code",
   "execution_count": 24,
   "id": "7d91a1f4-1aee-4f81-bb1a-be1376f3b2e2",
   "metadata": {},
   "outputs": [
    {
     "name": "stdout",
     "output_type": "stream",
     "text": [
      "my name is  poonam\n"
     ]
    }
   ],
   "source": [
    "emp_name('poonam')"
   ]
  },
  {
   "cell_type": "code",
   "execution_count": 26,
   "id": "4252cb3b-5c50-42c9-9539-e98327a244a6",
   "metadata": {},
   "outputs": [],
   "source": [
    "def add_numbers(a=4,b=8):\n",
    "    sum =a+b\n",
    "    print(\"sum\",sum)"
   ]
  },
  {
   "cell_type": "code",
   "execution_count": 27,
   "id": "f714e793-f0d1-4b95-a11e-0fcbd16f03d1",
   "metadata": {},
   "outputs": [
    {
     "name": "stdout",
     "output_type": "stream",
     "text": [
      "sum 12\n"
     ]
    }
   ],
   "source": [
    "add_numbers()"
   ]
  },
  {
   "cell_type": "code",
   "execution_count": 28,
   "id": "d785e220-002d-415c-9824-0ea1fdfed6ff",
   "metadata": {},
   "outputs": [
    {
     "name": "stdout",
     "output_type": "stream",
     "text": [
      "sum 10\n"
     ]
    }
   ],
   "source": [
    "add_numbers(2,8)"
   ]
  },
  {
   "cell_type": "code",
   "execution_count": 29,
   "id": "4a161c06-d4dd-4e8a-aff4-7d55a14b136e",
   "metadata": {},
   "outputs": [],
   "source": [
    "def emp_name(name=\"pw skills\"):\n",
    "    print(\"my name is \",name)"
   ]
  },
  {
   "cell_type": "code",
   "execution_count": 30,
   "id": "b76f3faa-0dc2-4432-8194-255ef08723f7",
   "metadata": {},
   "outputs": [
    {
     "name": "stdout",
     "output_type": "stream",
     "text": [
      "my name is  poonam\n"
     ]
    }
   ],
   "source": [
    "emp_name('poonam')"
   ]
  },
  {
   "cell_type": "code",
   "execution_count": 31,
   "id": "f8dc3c40-e9dd-418f-907f-a28b04dcd6bf",
   "metadata": {},
   "outputs": [],
   "source": [
    "# keyword arguments"
   ]
  },
  {
   "cell_type": "code",
   "execution_count": 32,
   "id": "5dc8093e-b93a-4f21-9f48-1f491837a67f",
   "metadata": {},
   "outputs": [],
   "source": [
    "def display_info(first_name,last_name):\n",
    "    print(\"first name\",first_name)\n",
    "    print(\"last name\",last_name)"
   ]
  },
  {
   "cell_type": "code",
   "execution_count": 33,
   "id": "fec4b43c-22ae-4ecf-9812-17023161e705",
   "metadata": {},
   "outputs": [
    {
     "name": "stdout",
     "output_type": "stream",
     "text": [
      "first name pw\n",
      "last name skills\n"
     ]
    }
   ],
   "source": [
    "display_info(last_name='skills',first_name='pw')"
   ]
  },
  {
   "cell_type": "code",
   "execution_count": 34,
   "id": "351e68f6-9575-4fce-a9b3-95b609b8b089",
   "metadata": {},
   "outputs": [],
   "source": [
    "def add_numbers(a,b):\n",
    "    sum = a+b\n",
    "    print(\"sum\",sum)"
   ]
  },
  {
   "cell_type": "code",
   "execution_count": 35,
   "id": "ff4cba7c-fda5-465b-8e91-69b90c50da8f",
   "metadata": {},
   "outputs": [
    {
     "name": "stdout",
     "output_type": "stream",
     "text": [
      "sum 11\n"
     ]
    }
   ],
   "source": [
    "add_numbers(a=4,b=7)"
   ]
  },
  {
   "cell_type": "code",
   "execution_count": 36,
   "id": "ee31b8a1-fcc3-47f8-92ea-b56975ed7514",
   "metadata": {},
   "outputs": [],
   "source": [
    "#  *args and **kargs"
   ]
  },
  {
   "cell_type": "code",
   "execution_count": 47,
   "id": "45b64a53-cdad-4298-9f0d-f632ce732eea",
   "metadata": {},
   "outputs": [],
   "source": [
    "def find_sum(*numbers):\n",
    "    result=0\n",
    "    \n",
    "    for num in numbers:\n",
    "        result = result+num\n",
    "    print(\"sum\",result)"
   ]
  },
  {
   "cell_type": "code",
   "execution_count": 44,
   "id": "b9d3b3e2-79eb-413b-a347-f0a16b3c0a73",
   "metadata": {},
   "outputs": [
    {
     "name": "stdout",
     "output_type": "stream",
     "text": [
      "sum 0\n"
     ]
    }
   ],
   "source": [
    "find_sum()"
   ]
  },
  {
   "cell_type": "code",
   "execution_count": 48,
   "id": "b891aed2-1f89-4d41-931b-b1b45d6a0ee6",
   "metadata": {},
   "outputs": [
    {
     "name": "stdout",
     "output_type": "stream",
     "text": [
      "sum 6\n"
     ]
    }
   ],
   "source": [
    "find_sum(1,2,3)"
   ]
  },
  {
   "cell_type": "code",
   "execution_count": 49,
   "id": "e4694bf1-3dbe-4cde-b874-e8c0a3a99319",
   "metadata": {},
   "outputs": [
    {
     "name": "stdout",
     "output_type": "stream",
     "text": [
      "sum 36\n"
     ]
    }
   ],
   "source": [
    "find_sum(1,2,3,4,5,6,7,8)"
   ]
  },
  {
   "cell_type": "code",
   "execution_count": 50,
   "id": "60cab18b-390b-4e81-b0f2-595ace8624cf",
   "metadata": {},
   "outputs": [],
   "source": [
    "def simple(*x):\n",
    "    print(x)"
   ]
  },
  {
   "cell_type": "code",
   "execution_count": 51,
   "id": "47dd753f-b6cf-44c9-b115-fb3e89d37a73",
   "metadata": {},
   "outputs": [
    {
     "name": "stdout",
     "output_type": "stream",
     "text": [
      "()\n"
     ]
    }
   ],
   "source": [
    "simple()"
   ]
  },
  {
   "cell_type": "code",
   "execution_count": 52,
   "id": "e667b848-0c15-43d4-94f8-1c738390d829",
   "metadata": {},
   "outputs": [
    {
     "name": "stdout",
     "output_type": "stream",
     "text": [
      "(1, 2, 3)\n"
     ]
    }
   ],
   "source": [
    "simple(1,2,3)"
   ]
  },
  {
   "cell_type": "code",
   "execution_count": 53,
   "id": "a7dfc6cf-98ae-4f21-bef2-5e02564736d8",
   "metadata": {},
   "outputs": [
    {
     "name": "stdout",
     "output_type": "stream",
     "text": [
      "(1, 2, 3, 4, 5, 6, 7)\n"
     ]
    }
   ],
   "source": [
    "simple(1,2,3,4,5,6,7)"
   ]
  },
  {
   "cell_type": "code",
   "execution_count": 61,
   "id": "6869307f-f9e2-4967-9226-c0404ea0d53e",
   "metadata": {},
   "outputs": [],
   "source": [
    "def intro(**data):\n",
    "    print(\"data type of argument\", type(data))\n",
    "          \n",
    "     for key,value in data.items():\n",
    "        print(key,value)"
   ]
  },
  {
   "cell_type": "code",
   "execution_count": 65,
   "id": "03249ad4-b180-43e6-9bc8-b0e0f20434bf",
   "metadata": {},
   "outputs": [
    {
     "name": "stdout",
     "output_type": "stream",
     "text": [
      "data type of argument <class 'dict'>\n"
     ]
    }
   ],
   "source": [
    "intro(firstname='pw',lastname='skills')"
   ]
  },
  {
   "cell_type": "code",
   "execution_count": 62,
   "id": "e6a2c3f9-ffd8-41f9-b15e-7fa24ac1271d",
   "metadata": {},
   "outputs": [],
   "source": [
    "x={'a':1,'b':2}"
   ]
  },
  {
   "cell_type": "code",
   "execution_count": 63,
   "id": "6df8a6cd-3144-4050-83fe-743a33c97b43",
   "metadata": {},
   "outputs": [
    {
     "data": {
      "text/plain": [
       "dict_items([('a', 1), ('b', 2)])"
      ]
     },
     "execution_count": 63,
     "metadata": {},
     "output_type": "execute_result"
    }
   ],
   "source": [
    "x.items()"
   ]
  },
  {
   "cell_type": "code",
   "execution_count": 64,
   "id": "dc69368b-dc77-45eb-b721-e36c152203cd",
   "metadata": {},
   "outputs": [
    {
     "name": "stdout",
     "output_type": "stream",
     "text": [
      "a 1\n",
      "b 2\n"
     ]
    }
   ],
   "source": [
    "for keys,value in x.items():\n",
    "    print(keys,value)"
   ]
  },
  {
   "cell_type": "code",
   "execution_count": 76,
   "id": "4f5d5a48-b08f-4d28-a473-ed25c7c17f02",
   "metadata": {},
   "outputs": [],
   "source": [
    "def shownumbers(*x):\n",
    "    print(x)"
   ]
  },
  {
   "cell_type": "code",
   "execution_count": 77,
   "id": "28f25d15-4552-4219-b1d5-0ba2a6072e9c",
   "metadata": {},
   "outputs": [
    {
     "name": "stdout",
     "output_type": "stream",
     "text": [
      "(1,)\n"
     ]
    }
   ],
   "source": [
    "shownumbers(1)"
   ]
  },
  {
   "cell_type": "code",
   "execution_count": 78,
   "id": "5eaf69c0-83e5-404b-b3e1-f7242c0b8a59",
   "metadata": {},
   "outputs": [
    {
     "name": "stdout",
     "output_type": "stream",
     "text": [
      "(2, 3, 4, 6)\n"
     ]
    }
   ],
   "source": [
    "shownumbers(2,3,4,6)"
   ]
  },
  {
   "cell_type": "code",
   "execution_count": 79,
   "id": "de979c7d-6ee3-4bec-897f-79e1172ae669",
   "metadata": {},
   "outputs": [],
   "source": [
    "def showkeyvalue(**y):\n",
    "    print(y)"
   ]
  },
  {
   "cell_type": "code",
   "execution_count": 80,
   "id": "2eae4610-5539-48d8-88d8-42baae82d9c0",
   "metadata": {},
   "outputs": [
    {
     "name": "stdout",
     "output_type": "stream",
     "text": [
      "{'x': 1, 'y': 2}\n"
     ]
    }
   ],
   "source": [
    "showkeyvalue(x=1,y=2)"
   ]
  },
  {
   "cell_type": "code",
   "execution_count": 81,
   "id": "3f3a5dca-a3bd-4c80-8e0d-9c2013181fc0",
   "metadata": {},
   "outputs": [
    {
     "name": "stdout",
     "output_type": "stream",
     "text": [
      "{'x': 1, 'y': 2, 'w': 9, 'u': 'pw'}\n"
     ]
    }
   ],
   "source": [
    "showkeyvalue(x=1,y=2,w=9,u='pw')"
   ]
  },
  {
   "cell_type": "code",
   "execution_count": 85,
   "id": "549a0b3d-c535-42af-8584-bd1873553eb0",
   "metadata": {},
   "outputs": [],
   "source": [
    "def showkeyvalue(**kwargs):\n",
    "    print(kwargs)"
   ]
  },
  {
   "cell_type": "code",
   "execution_count": 86,
   "id": "d493ad2f-ad9d-4b79-8053-2c643d57ac0f",
   "metadata": {},
   "outputs": [
    {
     "name": "stdout",
     "output_type": "stream",
     "text": [
      "{'x': 2, 'u': 5}\n"
     ]
    }
   ],
   "source": [
    "showkeyvalue(x=2,u=5)"
   ]
  },
  {
   "cell_type": "code",
   "execution_count": 87,
   "id": "5fb26a4d-271f-49a1-9dfe-ec977ccdba14",
   "metadata": {},
   "outputs": [],
   "source": [
    "# lambdafunctions"
   ]
  },
  {
   "cell_type": "code",
   "execution_count": 89,
   "id": "66a03971-267b-46c7-8a1e-c726864b2167",
   "metadata": {},
   "outputs": [],
   "source": [
    "x=lambda : print(\"hello wolrd\")"
   ]
  },
  {
   "cell_type": "code",
   "execution_count": 90,
   "id": "e6c36945-f9d3-4ed4-8b07-892739b1698c",
   "metadata": {},
   "outputs": [
    {
     "name": "stdout",
     "output_type": "stream",
     "text": [
      "hello wolrd\n"
     ]
    }
   ],
   "source": [
    "x()"
   ]
  },
  {
   "cell_type": "code",
   "execution_count": 91,
   "id": "8e0be1f8-75fd-47ff-a474-34781674f24a",
   "metadata": {},
   "outputs": [],
   "source": [
    "y= lambda : print(\"pw skills\")"
   ]
  },
  {
   "cell_type": "code",
   "execution_count": 92,
   "id": "eb088c9b-7197-4cb5-9058-b68d29674171",
   "metadata": {},
   "outputs": [
    {
     "name": "stdout",
     "output_type": "stream",
     "text": [
      "pw skills\n"
     ]
    }
   ],
   "source": [
    "y()"
   ]
  },
  {
   "cell_type": "code",
   "execution_count": 93,
   "id": "b9793015-c875-42c0-a987-05e6c0ec865b",
   "metadata": {},
   "outputs": [],
   "source": [
    "addnum=lambda a,b:a+b"
   ]
  },
  {
   "cell_type": "code",
   "execution_count": 94,
   "id": "14d15f6e-580a-44d1-bf17-b248f29b4534",
   "metadata": {},
   "outputs": [
    {
     "data": {
      "text/plain": [
       "5"
      ]
     },
     "execution_count": 94,
     "metadata": {},
     "output_type": "execute_result"
    }
   ],
   "source": [
    "addnum(2,3)"
   ]
  },
  {
   "cell_type": "code",
   "execution_count": 95,
   "id": "4ea5ad50-5cdb-4686-af14-81c615d7dd57",
   "metadata": {},
   "outputs": [],
   "source": [
    "multi = lambda a,b : a*b"
   ]
  },
  {
   "cell_type": "code",
   "execution_count": 96,
   "id": "5ec382b4-4152-4d74-98b0-7fb5fa4903f9",
   "metadata": {},
   "outputs": [
    {
     "data": {
      "text/plain": [
       "8"
      ]
     },
     "execution_count": 96,
     "metadata": {},
     "output_type": "execute_result"
    }
   ],
   "source": [
    "multi(2,4)"
   ]
  },
  {
   "cell_type": "code",
   "execution_count": 97,
   "id": "c930d702-b9ce-4d2e-9fe4-553164db1fcc",
   "metadata": {},
   "outputs": [
    {
     "name": "stdin",
     "output_type": "stream",
     "text": [
      "enter first number 2\n",
      "enter second number 3\n"
     ]
    },
    {
     "name": "stdout",
     "output_type": "stream",
     "text": [
      "(4, 9)\n"
     ]
    }
   ],
   "source": [
    "a= int(input(\"enter first number\"))\n",
    "b= int(input(\"enter second number\"))\n",
    "square=lambda a,b:(a**2,b**2)\n",
    "print(square(a,b))"
   ]
  },
  {
   "cell_type": "code",
   "execution_count": 112,
   "id": "a0e935a4-153a-4bd8-aebf-84019fbfe7bc",
   "metadata": {},
   "outputs": [],
   "source": [
    "def evenodd(n):\n",
    "     if n%2==0:\n",
    "            print(\"number is even\")\n",
    "     else: \n",
    "        print(\"number is odd\")\n",
    "    "
   ]
  },
  {
   "cell_type": "code",
   "execution_count": 113,
   "id": "7a5d4778-ea6f-462d-8508-964639c3a1d7",
   "metadata": {},
   "outputs": [
    {
     "name": "stdout",
     "output_type": "stream",
     "text": [
      "number is odd\n"
     ]
    }
   ],
   "source": [
    "evenodd(23)"
   ]
  },
  {
   "cell_type": "code",
   "execution_count": 116,
   "id": "47f46e5f-7685-4cda-8f71-b942006aa189",
   "metadata": {},
   "outputs": [],
   "source": [
    "x=lambda n: \"number is even\" if n%2==0 else \"number is odd\""
   ]
  },
  {
   "cell_type": "code",
   "execution_count": 117,
   "id": "b5931b2f-5691-424c-8698-906ef6cd4e54",
   "metadata": {},
   "outputs": [
    {
     "data": {
      "text/plain": [
       "'number is odd'"
      ]
     },
     "execution_count": 117,
     "metadata": {},
     "output_type": "execute_result"
    }
   ],
   "source": [
    "x(3)"
   ]
  },
  {
   "cell_type": "code",
   "execution_count": 118,
   "id": "29ce515b-f250-4d68-bdc2-53a5c30fb7bd",
   "metadata": {},
   "outputs": [],
   "source": [
    "# write a lambda function that accespts 2 arguments and return the greater amongst them"
   ]
  },
  {
   "cell_type": "code",
   "execution_count": 119,
   "id": "cc435f07-9489-4b81-b4d5-be2e0b6ca61d",
   "metadata": {},
   "outputs": [],
   "source": [
    "greatest_num=lambda a,b: a if a>b else  b"
   ]
  },
  {
   "cell_type": "code",
   "execution_count": 120,
   "id": "e4414124-bb95-4188-9740-392ba5281d6e",
   "metadata": {},
   "outputs": [
    {
     "data": {
      "text/plain": [
       "8"
      ]
     },
     "execution_count": 120,
     "metadata": {},
     "output_type": "execute_result"
    }
   ],
   "source": [
    "greatest_num(4,8)"
   ]
  },
  {
   "cell_type": "code",
   "execution_count": 121,
   "id": "37206249-6523-4d90-a950-21e070c4cc23",
   "metadata": {},
   "outputs": [],
   "source": [
    "#lambda function to fing sum of numbers"
   ]
  },
  {
   "cell_type": "code",
   "execution_count": 122,
   "id": "6d3a542f-81da-4530-bd8d-4f1228a3214c",
   "metadata": {},
   "outputs": [],
   "source": [
    "sum_of =lambda a,b,c:(a+b+c)"
   ]
  },
  {
   "cell_type": "code",
   "execution_count": 123,
   "id": "0dc684db-86cc-4bdd-8afc-d871613c1728",
   "metadata": {},
   "outputs": [
    {
     "data": {
      "text/plain": [
       "6"
      ]
     },
     "execution_count": 123,
     "metadata": {},
     "output_type": "execute_result"
    }
   ],
   "source": [
    "sum_of (1,2,3)"
   ]
  },
  {
   "cell_type": "code",
   "execution_count": 124,
   "id": "444d2267-a110-4fbc-adf9-51f04d56030e",
   "metadata": {},
   "outputs": [],
   "source": [
    "products =[\n",
    "    {'name':'product1','price':50},\n",
    "    {'name':'products2','price':40},\n",
    "    {'name':'products3','price':30},\n",
    "    {'name':'products4','price':20}\n",
    "]\n",
    "\n",
    "# sorted()\n",
    "\n",
    "sorted_products= sorted(products, key=lambda x:x['price'])"
   ]
  },
  {
   "cell_type": "code",
   "execution_count": 125,
   "id": "f43d8db5-52a7-4b77-844c-c4588ccb6f3e",
   "metadata": {},
   "outputs": [
    {
     "name": "stdout",
     "output_type": "stream",
     "text": [
      "{'name': 'products4', 'price': 20}\n",
      "{'name': 'products3', 'price': 30}\n",
      "{'name': 'products2', 'price': 40}\n",
      "{'name': 'product1', 'price': 50}\n"
     ]
    }
   ],
   "source": [
    "for i in sorted_products:\n",
    "    print(i)"
   ]
  },
  {
   "cell_type": "code",
   "execution_count": 128,
   "id": "ce6ccc3a-829a-492c-832b-5a229375d822",
   "metadata": {},
   "outputs": [],
   "source": [
    "# write a lambdaexpression that accepts a charater as argument and return true if it is a volwel other flase\n",
    "# a e i o u\n",
    "# poonam\n",
    "# i  a"
   ]
  },
  {
   "cell_type": "code",
   "execution_count": 129,
   "id": "e496e185-f5b6-4b73-b156-9e174fd08ea9",
   "metadata": {},
   "outputs": [],
   "source": [
    "# filter\n",
    "#map\n",
    "# reduce"
   ]
  },
  {
   "cell_type": "code",
   "execution_count": 133,
   "id": "3d752192-1369-456e-b19b-7ee53e2d503f",
   "metadata": {},
   "outputs": [
    {
     "name": "stdin",
     "output_type": "stream",
     "text": [
      "Enter a string: poonam\n"
     ]
    },
    {
     "data": {
      "text/plain": [
       "['o', 'o', 'a']"
      ]
     },
     "execution_count": 133,
     "metadata": {},
     "output_type": "execute_result"
    }
   ],
   "source": [
    "vowels = ['a','e','i','o','u','A','E','I','O','U']\n",
    "string = input(\"Enter a string:\")\n",
    "\n",
    "vowels_list = [string[i] for i in range (len(string)) if string [i] in vowels]\n",
    "vowels_list"
   ]
  },
  {
   "cell_type": "code",
   "execution_count": null,
   "id": "414bc143-ba9d-4446-bc0a-d09fed246f22",
   "metadata": {},
   "outputs": [],
   "source": [
    "x=5"
   ]
  },
  {
   "cell_type": "code",
   "execution_count": 134,
   "id": "457bbb57-70e7-4f57-a8e3-ec04f7967aa5",
   "metadata": {},
   "outputs": [
    {
     "data": {
      "text/plain": [
       "140343361686112"
      ]
     },
     "execution_count": 134,
     "metadata": {},
     "output_type": "execute_result"
    }
   ],
   "source": [
    "id(x)"
   ]
  },
  {
   "cell_type": "code",
   "execution_count": 1,
   "id": "3fb14592-888d-44c1-a914-ce4014ad77b0",
   "metadata": {},
   "outputs": [],
   "source": [
    "l=[1,2,3,4]"
   ]
  },
  {
   "cell_type": "code",
   "execution_count": 2,
   "id": "b87cd1fe-506b-4fcf-ad4a-209c8b5f0582",
   "metadata": {},
   "outputs": [
    {
     "data": {
      "text/plain": [
       "4"
      ]
     },
     "execution_count": 2,
     "metadata": {},
     "output_type": "execute_result"
    }
   ],
   "source": [
    "max(l)"
   ]
  },
  {
   "cell_type": "code",
   "execution_count": 3,
   "id": "11c669be-6255-4052-b169-5b485f4f1ead",
   "metadata": {},
   "outputs": [],
   "source": [
    "x=2"
   ]
  },
  {
   "cell_type": "code",
   "execution_count": 4,
   "id": "89fde81c-ea50-4d09-8557-a2bffe185468",
   "metadata": {},
   "outputs": [],
   "source": [
    "y=str(x)"
   ]
  },
  {
   "cell_type": "code",
   "execution_count": 5,
   "id": "2747b697-c105-4727-b46f-c1db3dd4c1da",
   "metadata": {},
   "outputs": [
    {
     "data": {
      "text/plain": [
       "'2'"
      ]
     },
     "execution_count": 5,
     "metadata": {},
     "output_type": "execute_result"
    }
   ],
   "source": [
    "y"
   ]
  },
  {
   "cell_type": "code",
   "execution_count": 6,
   "id": "dafe4e1a-1bb8-4a9f-aacd-cdfaaf2411bb",
   "metadata": {},
   "outputs": [
    {
     "data": {
      "text/plain": [
       "str"
      ]
     },
     "execution_count": 6,
     "metadata": {},
     "output_type": "execute_result"
    }
   ],
   "source": [
    "type(y)"
   ]
  },
  {
   "cell_type": "code",
   "execution_count": 7,
   "id": "008ea49c-159c-4bf3-9d5d-5a47225936b4",
   "metadata": {},
   "outputs": [],
   "source": [
    "language=['python','java','javascript']"
   ]
  },
  {
   "cell_type": "code",
   "execution_count": 14,
   "id": "40e91569-6a04-40dd-8ae4-84ff576504ec",
   "metadata": {},
   "outputs": [],
   "source": [
    "enumerate_prime= enumerate(language)"
   ]
  },
  {
   "cell_type": "code",
   "execution_count": 15,
   "id": "87cb03a2-7a0a-4ec9-a719-6de76fdc5cc2",
   "metadata": {},
   "outputs": [
    {
     "data": {
      "text/plain": [
       "[(0, 'python'), (1, 'java'), (2, 'javascript')]"
      ]
     },
     "execution_count": 15,
     "metadata": {},
     "output_type": "execute_result"
    }
   ],
   "source": [
    "list(enumerate_prime)"
   ]
  },
  {
   "cell_type": "code",
   "execution_count": 16,
   "id": "df40fc36-0aed-4b13-a7a1-ec223ad44aab",
   "metadata": {},
   "outputs": [],
   "source": [
    "## list comprehension"
   ]
  },
  {
   "cell_type": "code",
   "execution_count": 23,
   "id": "6d5a5fae-d523-4593-b650-d45bf3c5a8c1",
   "metadata": {},
   "outputs": [],
   "source": [
    "lst=[1,2,3,4,5,6,7,8,9,10]"
   ]
  },
  {
   "cell_type": "code",
   "execution_count": 24,
   "id": "9dabf8e1-a0ef-468b-9345-6d354f11eda3",
   "metadata": {},
   "outputs": [],
   "source": [
    "a=[x for x in lst]"
   ]
  },
  {
   "cell_type": "code",
   "execution_count": 25,
   "id": "7408fd84-cd70-4b8f-a040-34c727a44a8b",
   "metadata": {},
   "outputs": [
    {
     "data": {
      "text/plain": [
       "[1, 2, 3, 4, 5, 6, 7, 8, 9, 10]"
      ]
     },
     "execution_count": 25,
     "metadata": {},
     "output_type": "execute_result"
    }
   ],
   "source": [
    "a"
   ]
  },
  {
   "cell_type": "code",
   "execution_count": 27,
   "id": "bc396d7a-8e49-478f-84d5-4b28b99d5453",
   "metadata": {},
   "outputs": [
    {
     "name": "stdout",
     "output_type": "stream",
     "text": [
      "1\n",
      "2\n",
      "3\n",
      "4\n",
      "5\n",
      "6\n",
      "7\n",
      "8\n",
      "9\n",
      "10\n"
     ]
    }
   ],
   "source": [
    "for i in lst:\n",
    "   print(i)"
   ]
  },
  {
   "cell_type": "code",
   "execution_count": 29,
   "id": "0155f696-26be-4529-b0f5-e8d1289614a5",
   "metadata": {},
   "outputs": [],
   "source": [
    "lst=[1,2,3,4,5,6,7,8,9,10]\n",
    "a=[x*2 for x in lst]"
   ]
  },
  {
   "cell_type": "code",
   "execution_count": 30,
   "id": "d48f5199-68bb-4bff-a934-6c61cb8799a8",
   "metadata": {},
   "outputs": [
    {
     "data": {
      "text/plain": [
       "[2, 4, 6, 8, 10, 12, 14, 16, 18, 20]"
      ]
     },
     "execution_count": 30,
     "metadata": {},
     "output_type": "execute_result"
    }
   ],
   "source": [
    "a"
   ]
  },
  {
   "cell_type": "code",
   "execution_count": 31,
   "id": "a123cdf6-1f64-474e-9bbc-d00ff81afcfd",
   "metadata": {},
   "outputs": [],
   "source": [
    "lst=[1,2,3,4,5,6,7,8,9,10]\n",
    "\n",
    "c= [x for x in lst if x>4]"
   ]
  },
  {
   "cell_type": "code",
   "execution_count": 32,
   "id": "1467232e-1a00-4613-8ddd-384b2c46581a",
   "metadata": {},
   "outputs": [
    {
     "data": {
      "text/plain": [
       "[5, 6, 7, 8, 9, 10]"
      ]
     },
     "execution_count": 32,
     "metadata": {},
     "output_type": "execute_result"
    }
   ],
   "source": [
    "c"
   ]
  },
  {
   "cell_type": "code",
   "execution_count": 34,
   "id": "fb62c644-3f6b-40eb-8720-3c7e10b6ecb9",
   "metadata": {},
   "outputs": [],
   "source": [
    "a=[]\n",
    "\n",
    "for x in lst:\n",
    "    if x>4:\n",
    "        a.append(x)"
   ]
  },
  {
   "cell_type": "code",
   "execution_count": 35,
   "id": "f61b7942-e792-4f21-bdfe-f4e0cf7a22d0",
   "metadata": {},
   "outputs": [
    {
     "data": {
      "text/plain": [
       "[5, 6, 7, 8, 9, 10]"
      ]
     },
     "execution_count": 35,
     "metadata": {},
     "output_type": "execute_result"
    }
   ],
   "source": [
    "a"
   ]
  },
  {
   "cell_type": "code",
   "execution_count": 36,
   "id": "a7e343e4-ca32-4997-bca6-6871c6ec7d15",
   "metadata": {},
   "outputs": [],
   "source": [
    "lst=[1,2,3,4,5,6,7,8,9,10]"
   ]
  },
  {
   "cell_type": "code",
   "execution_count": 40,
   "id": "96f0c172-6f04-4fa0-89b0-62b30ef867cc",
   "metadata": {},
   "outputs": [
    {
     "data": {
      "text/plain": [
       "[1, 3, 5, 7, 9]"
      ]
     },
     "execution_count": 40,
     "metadata": {},
     "output_type": "execute_result"
    }
   ],
   "source": [
    "l=[1,2,3,4,5,6,7,8,9,10]\n",
    "result=[i for i in l if i%2!=0]        \n",
    "result        "
   ]
  },
  {
   "cell_type": "code",
   "execution_count": 41,
   "id": "067abe2c-e5e0-4b6e-bfb9-7632a4482c6f",
   "metadata": {},
   "outputs": [
    {
     "data": {
      "text/plain": [
       "[2, 4, 6, 8, 10]"
      ]
     },
     "execution_count": 41,
     "metadata": {},
     "output_type": "execute_result"
    }
   ],
   "source": [
    "l=[1,2,3,4,5,6,7,8,9,10]\n",
    "result=[i for i in l if i%2==0]\n",
    "result"
   ]
  },
  {
   "cell_type": "code",
   "execution_count": 42,
   "id": "7c5dce1c-d8f7-499d-be64-50a2263cbed8",
   "metadata": {},
   "outputs": [],
   "source": [
    "lst=[1,2,3,4,5,6,7,8,9,10]\n",
    "d=[x for x in lst if x>4 if x%2==0]"
   ]
  },
  {
   "cell_type": "code",
   "execution_count": 43,
   "id": "1776a4c9-55cb-428a-8b5b-399b20f9e602",
   "metadata": {},
   "outputs": [
    {
     "data": {
      "text/plain": [
       "[6, 8, 10]"
      ]
     },
     "execution_count": 43,
     "metadata": {},
     "output_type": "execute_result"
    }
   ],
   "source": [
    "d"
   ]
  },
  {
   "cell_type": "code",
   "execution_count": 44,
   "id": "30707e22-81e6-4bb6-adc7-fd6fcb15c56d",
   "metadata": {},
   "outputs": [],
   "source": [
    "a=[]\n",
    "\n",
    "for x in lst:\n",
    "    if x>4:\n",
    "        a.append(x)"
   ]
  },
  {
   "cell_type": "code",
   "execution_count": 45,
   "id": "728ac939-2a81-486b-9ffa-256f87c96f09",
   "metadata": {},
   "outputs": [],
   "source": [
    "lst=[1,2,3,4,5,6,7,8,9,10]\n",
    "e= [x if x>4 else 'lessthan 4' for x in lst]"
   ]
  },
  {
   "cell_type": "code",
   "execution_count": 46,
   "id": "7ddf2cdc-bc29-4e3a-8723-72fa6f82b43d",
   "metadata": {},
   "outputs": [
    {
     "data": {
      "text/plain": [
       "['lessthan 4', 'lessthan 4', 'lessthan 4', 'lessthan 4', 5, 6, 7, 8, 9, 10]"
      ]
     },
     "execution_count": 46,
     "metadata": {},
     "output_type": "execute_result"
    }
   ],
   "source": [
    "e"
   ]
  },
  {
   "cell_type": "code",
   "execution_count": 48,
   "id": "94135f01-9aae-4625-92a7-7da66193d66d",
   "metadata": {},
   "outputs": [],
   "source": [
    "a=[]\n",
    "\n",
    "for x in lst:\n",
    "    if x>4:\n",
    "        a.append(x)\n",
    "    else:    \n",
    "            a.append(\"less than 4\")\n",
    "    "
   ]
  },
  {
   "cell_type": "code",
   "execution_count": 49,
   "id": "c84d0b25-1f4d-4af1-b289-ad62ca986f16",
   "metadata": {},
   "outputs": [],
   "source": [
    "f=['two' if x%2==0 else 'three' if x%3==0 else 'not a & 3' for x in lst]"
   ]
  },
  {
   "cell_type": "code",
   "execution_count": 50,
   "id": "d5a75ee1-09f5-47d8-9316-815b66e27099",
   "metadata": {},
   "outputs": [
    {
     "data": {
      "text/plain": [
       "['not a & 3',\n",
       " 'two',\n",
       " 'three',\n",
       " 'two',\n",
       " 'not a & 3',\n",
       " 'two',\n",
       " 'not a & 3',\n",
       " 'two',\n",
       " 'three',\n",
       " 'two']"
      ]
     },
     "execution_count": 50,
     "metadata": {},
     "output_type": "execute_result"
    }
   ],
   "source": [
    "f"
   ]
  },
  {
   "cell_type": "code",
   "execution_count": 56,
   "id": "32389f91-6ff1-4c4d-bd92-c5b2dd7d386b",
   "metadata": {},
   "outputs": [],
   "source": [
    "a=[]\n",
    "\n",
    "for x in lst:\n",
    "    if x%2==0:\n",
    "        a.append('two')\n",
    "    elif x%3==0:\n",
    "            a.append('three')     \n",
    "    else:      \n",
    "                a.append(\"not 2 & 3\")\n"
   ]
  },
  {
   "cell_type": "code",
   "execution_count": 57,
   "id": "99bedd9a-b999-419c-a896-9c1604efc3e9",
   "metadata": {},
   "outputs": [
    {
     "data": {
      "text/plain": [
       "['not 2 & 3',\n",
       " 'two',\n",
       " 'three',\n",
       " 'two',\n",
       " 'not 2 & 3',\n",
       " 'two',\n",
       " 'not 2 & 3',\n",
       " 'two',\n",
       " 'three',\n",
       " 'two']"
      ]
     },
     "execution_count": 57,
     "metadata": {},
     "output_type": "execute_result"
    }
   ],
   "source": [
    "a"
   ]
  },
  {
   "cell_type": "code",
   "execution_count": 4,
   "id": "7bb4b343-29b1-47b2-b247-fb735f9bf817",
   "metadata": {},
   "outputs": [],
   "source": [
    "a  =500\n",
    "price = 450\n",
    "if price <= 500:\n",
    "    pass"
   ]
  },
  {
   "cell_type": "code",
   "execution_count": 5,
   "id": "dc3cfa18-84a4-4dfb-a53a-0ead639d6860",
   "metadata": {},
   "outputs": [
    {
     "data": {
      "text/plain": [
       "True"
      ]
     },
     "execution_count": 5,
     "metadata": {},
     "output_type": "execute_result"
    }
   ],
   "source": [
    "price <=500"
   ]
  },
  {
   "cell_type": "code",
   "execution_count": 6,
   "id": "316a5fd0-732d-4204-82c6-4672212d0422",
   "metadata": {},
   "outputs": [
    {
     "data": {
      "text/plain": [
       "False"
      ]
     },
     "execution_count": 6,
     "metadata": {},
     "output_type": "execute_result"
    }
   ],
   "source": [
    "850<=500"
   ]
  },
  {
   "cell_type": "code",
   "execution_count": 15,
   "id": "dd8b1545-b901-4c86-9453-ff8249cb38ed",
   "metadata": {},
   "outputs": [
    {
     "name": "stdout",
     "output_type": "stream",
     "text": [
      "yes i am doing this course \n"
     ]
    }
   ],
   "source": [
    "course =['DSM', 'DSA','Java', 'big data', 'DA']\n",
    "price = 20000\n",
    "mentor = \"poonam saini\"\n",
    "if 'DSM' in course and price ==20000 and \"poonam saini\" == mentor:\n",
    "    print(\"yes i am doing this course \")"
   ]
  },
  {
   "cell_type": "code",
   "execution_count": 19,
   "id": "f207ad3e-fbca-4ea4-8961-b2e16ae5564c",
   "metadata": {},
   "outputs": [
    {
     "name": "stdout",
     "output_type": "stream",
     "text": [
      "its out of my budget\n"
     ]
    }
   ],
   "source": [
    "course_price = 20000\n",
    "\n",
    "if 10000<= course_price <=15000:\n",
    "    print(\"i will try to buy a course\")\n",
    "    \n",
    "else :\n",
    "    print(\"its out of my budget\")"
   ]
  },
  {
   "cell_type": "code",
   "execution_count": 20,
   "id": "71aacfa4-f69e-4bb3-905c-a065080396ca",
   "metadata": {},
   "outputs": [
    {
     "data": {
      "text/plain": [
       "False"
      ]
     },
     "execution_count": 20,
     "metadata": {},
     "output_type": "execute_result"
    }
   ],
   "source": [
    "10000<= course_price <=15000"
   ]
  },
  {
   "cell_type": "code",
   "execution_count": 21,
   "id": "085d8733-2465-469d-88eb-855d956a6014",
   "metadata": {},
   "outputs": [
    {
     "name": "stdin",
     "output_type": "stream",
     "text": [
      "enter your username poonam\n",
      "enter your password poonam@1234\n"
     ]
    },
    {
     "name": "stdout",
     "output_type": "stream",
     "text": [
      "you have loged in succefully \n"
     ]
    }
   ],
   "source": [
    "user_name = \"poonam\"\n",
    "password = \"poonam@1234\"\n",
    "\n",
    "if user_name == input(\"enter your username\") and password == input(\"enter your password\"):\n",
    "    print(\"you have loged in succefully \")\n",
    "else:\n",
    "    print(\"enter correct username and password\")"
   ]
  },
  {
   "cell_type": "code",
   "execution_count": 34,
   "id": "36047469-c74f-4e74-b8ef-4ceb50d403bb",
   "metadata": {},
   "outputs": [
    {
     "name": "stdin",
     "output_type": "stream",
     "text": [
      "enter your registered mo no 12345678\n"
     ]
    },
    {
     "name": "stdout",
     "output_type": "stream",
     "text": [
      "yes you are a registered user\n"
     ]
    },
    {
     "name": "stdin",
     "output_type": "stream",
     "text": [
      "enter otp that we have sent on your mo no 1234\n"
     ]
    },
    {
     "name": "stdout",
     "output_type": "stream",
     "text": [
      "you have loged in succefully\n"
     ]
    }
   ],
   "source": [
    "mobile_no = 12345678\n",
    "otp = 1234\n",
    "if mobile_no == int(input(\"enter your registered mo no\")):\n",
    "    print(\"yes you are a registered user\")\n",
    "    if otp == int(input(\"enter otp that we have sent on your mo no\")):\n",
    "        print(\"you have loged in succefully\")\n",
    "    else  :\n",
    "        print(\"otp is not correct please try to enter again\")\n",
    "else :\n",
    "    print(\"you have not entered a valid mo no\")"
   ]
  },
  {
   "cell_type": "code",
   "execution_count": 39,
   "id": "508ed81a-63a1-4bb3-8198-b648eb943850",
   "metadata": {},
   "outputs": [
    {
     "name": "stdin",
     "output_type": "stream",
     "text": [
      "enter your registered mo no 2343243\n"
     ]
    },
    {
     "name": "stdout",
     "output_type": "stream",
     "text": [
      "yes you are a registered user\n"
     ]
    },
    {
     "name": "stdin",
     "output_type": "stream",
     "text": [
      "enter otp that we have sent on your mo no 1234\n"
     ]
    },
    {
     "name": "stdout",
     "output_type": "stream",
     "text": [
      "you have loged in succefully\n"
     ]
    }
   ],
   "source": [
    "mobile_no = {2343243, 3543434, 4567546, 765437, 34667755, 343343}\n",
    "otp = 1234\n",
    "if  int(input(\"enter your registered mo no\")):\n",
    "    print(\"yes you are a registered user\")\n",
    "    if otp == int(input(\"enter otp that we have sent on your mo no\")):\n",
    "        print(\"you have loged in succefully\")\n",
    "    else  :\n",
    "        print(\"otp is not correct please try to enter again\")\n",
    "else :\n",
    "    print(\"you have not entered a valid mo no\")"
   ]
  },
  {
   "cell_type": "code",
   "execution_count": 3,
   "id": "341bfa4a-d359-4914-8399-b5e20a872ac1",
   "metadata": {},
   "outputs": [
    {
     "name": "stdout",
     "output_type": "stream",
     "text": [
      "12\n",
      "3\n",
      "3\n",
      "4\n",
      "5\n",
      "6\n",
      "6\n",
      "7\n"
     ]
    }
   ],
   "source": [
    "l= [12,3,3,4,5,6,6,7]\n",
    "\n",
    "for i in l:\n",
    "    print(i)\n"
   ]
  },
  {
   "cell_type": "code",
   "execution_count": 6,
   "id": "056fe478-4a52-41c4-a886-757cd8373aaa",
   "metadata": {},
   "outputs": [
    {
     "name": "stdout",
     "output_type": "stream",
     "text": [
      "2343243\n",
      "3543534\n",
      "45654646\n",
      "23432\n",
      "yes user is resistered\n",
      "yes student details are avaible in DB \n",
      "course accessed to this user is  ['dsa', 'dsm', 'big data']\n",
      "345345\n",
      "345343\n"
     ]
    }
   ],
   "source": [
    "l= [12,3,3,4,5,6,6,7]\n",
    "mobile_no = [2343243,3543534,45654646,23432,345345,345343]\n",
    "stud_mo = 23432\n",
    "stud_details = {'mobile_no' : 23432,'course' :['dsa','dsm','big data']}\n",
    "\n",
    "for i in mobile_no:\n",
    "    print(i)\n",
    "    if i == stud_mo:\n",
    "        print(\"yes user is resistered\")\n",
    "        if i == stud_details['mobile_no']:\n",
    "            print(\"yes student details are avaible in DB \")\n",
    "            print(\"course accessed to this user is \", stud_details['course'])\n"
   ]
  },
  {
   "cell_type": "code",
   "execution_count": 11,
   "id": "5440346e-73f9-472a-bea7-b80b9ec0a641",
   "metadata": {},
   "outputs": [],
   "source": [
    "t = (12,3,4,5,56, \"poonam\",\"saini\")\n",
    "l_int = []\n",
    "l_str =[]\n",
    "     \n",
    "\n",
    "for i in t :\n",
    "    if type(i) ==str :\n",
    "        l_str.append(i)\n",
    "    elif type(i) == int:\n",
    "        l_int.append(i)"
   ]
  },
  {
   "cell_type": "code",
   "execution_count": 12,
   "id": "e41f862f-a961-4d7d-9fdd-53912773912d",
   "metadata": {},
   "outputs": [
    {
     "data": {
      "text/plain": [
       "[12, 3, 4, 5, 56]"
      ]
     },
     "execution_count": 12,
     "metadata": {},
     "output_type": "execute_result"
    }
   ],
   "source": [
    "l_int"
   ]
  },
  {
   "cell_type": "code",
   "execution_count": 13,
   "id": "d855d68c-6ef6-481f-98d4-297c562aeac1",
   "metadata": {},
   "outputs": [
    {
     "data": {
      "text/plain": [
       "['poonam', 'saini']"
      ]
     },
     "execution_count": 13,
     "metadata": {},
     "output_type": "execute_result"
    }
   ],
   "source": [
    "l_str"
   ]
  },
  {
   "cell_type": "code",
   "execution_count": 14,
   "id": "f8b846d8-92d3-49b6-b405-4ca80a7498e8",
   "metadata": {},
   "outputs": [],
   "source": [
    "s = {3,4,5,56,76,4,5,6,6}"
   ]
  },
  {
   "cell_type": "code",
   "execution_count": 16,
   "id": "ebea87ac-bd9e-4570-a8aa-b18c12f8deb5",
   "metadata": {},
   "outputs": [
    {
     "data": {
      "text/plain": [
       "{3, 4, 5, 6, 56, 76}"
      ]
     },
     "execution_count": 16,
     "metadata": {},
     "output_type": "execute_result"
    }
   ],
   "source": [
    "s"
   ]
  },
  {
   "cell_type": "code",
   "execution_count": 17,
   "id": "b604c150-479f-4857-af66-d844ef8881cd",
   "metadata": {},
   "outputs": [
    {
     "name": "stdout",
     "output_type": "stream",
     "text": [
      "3\n",
      "4\n",
      "5\n",
      "6\n",
      "56\n",
      "76\n"
     ]
    }
   ],
   "source": [
    "for i in s :\n",
    "    print(i)"
   ]
  },
  {
   "cell_type": "code",
   "execution_count": 22,
   "id": "463148fe-0fc6-4b6a-8741-743dbb4de26c",
   "metadata": {},
   "outputs": [],
   "source": [
    "d = {\"name\":\"poonam\",'class':[\"bigdata\",\"data analytics\",\"data scinece\",\"DSA\",\"architecture\",\"system design\"],\n",
    "'mobile no' : 345353453,\"email_id\":'poonamsaini0385@gmail.com'}                              "
   ]
  },
  {
   "cell_type": "code",
   "execution_count": 23,
   "id": "a9348a9f-36d2-4a16-9e84-ed2e1bcff91d",
   "metadata": {},
   "outputs": [
    {
     "data": {
      "text/plain": [
       "{'name': 'poonam',\n",
       " 'class': ['bigdata',\n",
       "  'data analytics',\n",
       "  'data scinece',\n",
       "  'DSA',\n",
       "  'architecture',\n",
       "  'system design'],\n",
       " 'mobile no': 345353453,\n",
       " 'email_id': 'poonamsaini0385@gmail.com'}"
      ]
     },
     "execution_count": 23,
     "metadata": {},
     "output_type": "execute_result"
    }
   ],
   "source": [
    "d"
   ]
  },
  {
   "cell_type": "code",
   "execution_count": 24,
   "id": "7b63fd35-39f0-4cb3-92bb-575d246d77c3",
   "metadata": {},
   "outputs": [
    {
     "data": {
      "text/plain": [
       "dict_values(['poonam', ['bigdata', 'data analytics', 'data scinece', 'DSA', 'architecture', 'system design'], 345353453, 'poonamsaini0385@gmail.com'])"
      ]
     },
     "execution_count": 24,
     "metadata": {},
     "output_type": "execute_result"
    }
   ],
   "source": [
    "d.values()"
   ]
  },
  {
   "cell_type": "code",
   "execution_count": 28,
   "id": "d76a1609-d79d-445c-b7e9-42f7cb010809",
   "metadata": {},
   "outputs": [
    {
     "name": "stdout",
     "output_type": "stream",
     "text": [
      "yes this mentor teach system design\n"
     ]
    }
   ],
   "source": [
    "for i in d.values():\n",
    "    if type(i) == list:\n",
    "        if 'system design' in i :\n",
    "            print(\"yes this mentor teach system design\")\n",
    "        "
   ]
  },
  {
   "cell_type": "code",
   "execution_count": 1,
   "id": "a0a6c26a-f31b-403c-95b2-4212d149a44d",
   "metadata": {},
   "outputs": [],
   "source": [
    "def test():\n",
    "    print(\"this is my first fun\")"
   ]
  },
  {
   "cell_type": "code",
   "execution_count": 2,
   "id": "0af52d7c-3a70-4f97-b133-af3daf97990d",
   "metadata": {},
   "outputs": [
    {
     "name": "stdout",
     "output_type": "stream",
     "text": [
      "this is my first fun\n"
     ]
    }
   ],
   "source": [
    "test()"
   ]
  },
  {
   "cell_type": "code",
   "execution_count": 3,
   "id": "54dca2b6-9652-4962-96e5-4e82ad6d3567",
   "metadata": {},
   "outputs": [
    {
     "name": "stdout",
     "output_type": "stream",
     "text": [
      "this is my first fun\n"
     ]
    }
   ],
   "source": [
    "test()"
   ]
  },
  {
   "cell_type": "code",
   "execution_count": 6,
   "id": "3e0004ae-e514-4c54-84fe-840c197bc0c9",
   "metadata": {},
   "outputs": [],
   "source": [
    "def test1():\n",
    "    print(1+2)"
   ]
  },
  {
   "cell_type": "code",
   "execution_count": 8,
   "id": "5ebbed52-8f30-46c1-93aa-8b2a889b7e63",
   "metadata": {},
   "outputs": [
    {
     "name": "stdout",
     "output_type": "stream",
     "text": [
      "this is my first fun\n"
     ]
    }
   ],
   "source": [
    "test()"
   ]
  },
  {
   "cell_type": "code",
   "execution_count": 9,
   "id": "2d1fcb98-3f34-4268-bd5c-1184fce1e91d",
   "metadata": {},
   "outputs": [],
   "source": [
    "def test3():\n",
    "    return 1+2"
   ]
  },
  {
   "cell_type": "code",
   "execution_count": 10,
   "id": "29879ccd-8ee4-41cc-a2b2-b2af10a79aab",
   "metadata": {},
   "outputs": [
    {
     "data": {
      "text/plain": [
       "13"
      ]
     },
     "execution_count": 10,
     "metadata": {},
     "output_type": "execute_result"
    }
   ],
   "source": [
    "test3() + 10"
   ]
  },
  {
   "cell_type": "code",
   "execution_count": 11,
   "id": "e293090d-a9b3-481a-9b89-14b0228e2dc6",
   "metadata": {},
   "outputs": [
    {
     "data": {
      "text/plain": [
       "int"
      ]
     },
     "execution_count": 11,
     "metadata": {},
     "output_type": "execute_result"
    }
   ],
   "source": [
    "type(test3())"
   ]
  },
  {
   "cell_type": "code",
   "execution_count": 17,
   "id": "d3599d9c-4ea6-4905-99c3-0f9f26836c53",
   "metadata": {},
   "outputs": [],
   "source": [
    "def test4():\n",
    "    return 2,\"poonam\",True,[1,2,3,4,5]"
   ]
  },
  {
   "cell_type": "code",
   "execution_count": 18,
   "id": "95530232-5824-453b-b4d3-0a411e2c2d05",
   "metadata": {},
   "outputs": [
    {
     "data": {
      "text/plain": [
       "(2, 'poonam', True, [1, 2, 3, 4, 5])"
      ]
     },
     "execution_count": 18,
     "metadata": {},
     "output_type": "execute_result"
    }
   ],
   "source": [
    "test4()"
   ]
  },
  {
   "cell_type": "code",
   "execution_count": 19,
   "id": "4e286c91-2788-4a2b-b272-85b529656d10",
   "metadata": {},
   "outputs": [],
   "source": [
    "a,b,c,d = 1,\"poonam\",34,45"
   ]
  },
  {
   "cell_type": "code",
   "execution_count": 20,
   "id": "84b7afb1-6351-4a78-bbea-dc922c98f2ad",
   "metadata": {},
   "outputs": [],
   "source": [
    "a = 1\n",
    "b = \"poonam\"\n",
    "c = 34\n",
    "d = 45"
   ]
  },
  {
   "cell_type": "code",
   "execution_count": 21,
   "id": "2f5c7611-364c-48e8-bdef-bf83ad4ebeff",
   "metadata": {},
   "outputs": [
    {
     "data": {
      "text/plain": [
       "tuple"
      ]
     },
     "execution_count": 21,
     "metadata": {},
     "output_type": "execute_result"
    }
   ],
   "source": [
    "type(test4())"
   ]
  },
  {
   "cell_type": "code",
   "execution_count": 22,
   "id": "353229d5-ff61-4317-893a-1274a6c1e0cf",
   "metadata": {},
   "outputs": [],
   "source": [
    "m,n,o,p = test4()"
   ]
  },
  {
   "cell_type": "code",
   "execution_count": 23,
   "id": "4b085303-c726-46b1-8162-a0ac11d2bad1",
   "metadata": {},
   "outputs": [
    {
     "data": {
      "text/plain": [
       "2"
      ]
     },
     "execution_count": 23,
     "metadata": {},
     "output_type": "execute_result"
    }
   ],
   "source": [
    "m"
   ]
  },
  {
   "cell_type": "code",
   "execution_count": 24,
   "id": "b66e06ba-fe74-46ed-aa88-e32040ee0017",
   "metadata": {},
   "outputs": [
    {
     "data": {
      "text/plain": [
       "'poonam'"
      ]
     },
     "execution_count": 24,
     "metadata": {},
     "output_type": "execute_result"
    }
   ],
   "source": [
    "n"
   ]
  },
  {
   "cell_type": "code",
   "execution_count": 25,
   "id": "92eecfdc-c309-4894-a83d-20b7530412a3",
   "metadata": {},
   "outputs": [
    {
     "data": {
      "text/plain": [
       "True"
      ]
     },
     "execution_count": 25,
     "metadata": {},
     "output_type": "execute_result"
    }
   ],
   "source": [
    "o"
   ]
  },
  {
   "cell_type": "code",
   "execution_count": 26,
   "id": "b079fcf9-77d4-4263-a53e-2394e1adee85",
   "metadata": {},
   "outputs": [
    {
     "data": {
      "text/plain": [
       "[1, 2, 3, 4, 5]"
      ]
     },
     "execution_count": 26,
     "metadata": {},
     "output_type": "execute_result"
    }
   ],
   "source": [
    "p"
   ]
  },
  {
   "cell_type": "code",
   "execution_count": 35,
   "id": "cd4c8773-c05c-4da0-9364-02ff0a3891ad",
   "metadata": {},
   "outputs": [],
   "source": [
    "def test5(x):\n",
    "    return x\n"
   ]
  },
  {
   "cell_type": "code",
   "execution_count": 36,
   "id": "4be6b1ca-5142-43e9-bfd3-110da038c85d",
   "metadata": {},
   "outputs": [
    {
     "data": {
      "text/plain": [
       "5"
      ]
     },
     "execution_count": 36,
     "metadata": {},
     "output_type": "execute_result"
    }
   ],
   "source": [
    "test5(5)"
   ]
  },
  {
   "cell_type": "code",
   "execution_count": 37,
   "id": "330fc59c-b103-427e-9fd7-6be24377d4b7",
   "metadata": {},
   "outputs": [
    {
     "data": {
      "text/plain": [
       "'poonam'"
      ]
     },
     "execution_count": 37,
     "metadata": {},
     "output_type": "execute_result"
    }
   ],
   "source": [
    "test5(\"poonam\")"
   ]
  },
  {
   "cell_type": "code",
   "execution_count": 38,
   "id": "7d457f05-e557-4a5d-bbcb-30e75a50215a",
   "metadata": {},
   "outputs": [
    {
     "data": {
      "text/plain": [
       "[2, 3, 4, 5]"
      ]
     },
     "execution_count": 38,
     "metadata": {},
     "output_type": "execute_result"
    }
   ],
   "source": [
    "test5([2,3,4,5])"
   ]
  },
  {
   "cell_type": "code",
   "execution_count": 40,
   "id": "f308f06d-7763-4962-b172-600fb614d7d8",
   "metadata": {},
   "outputs": [],
   "source": [
    "def test6(x,y):\n",
    "    return x,y"
   ]
  },
  {
   "cell_type": "code",
   "execution_count": 41,
   "id": "78d76422-9951-4c92-a0be-b107f6c3942b",
   "metadata": {},
   "outputs": [
    {
     "data": {
      "text/plain": [
       "('poonam', [1, 2, 3, 4, 5])"
      ]
     },
     "execution_count": 41,
     "metadata": {},
     "output_type": "execute_result"
    }
   ],
   "source": [
    "test6(\"poonam\" , [1,2,3,4,5])"
   ]
  },
  {
   "cell_type": "code",
   "execution_count": 44,
   "id": "4900b5ed-71ff-41cc-9101-0aea8e20e9e3",
   "metadata": {},
   "outputs": [],
   "source": [
    "def test7(a:int , b:int):\n",
    "    return a,b"
   ]
  },
  {
   "cell_type": "code",
   "execution_count": 45,
   "id": "90cc809f-b32f-4e09-8e82-2d0bea546f29",
   "metadata": {},
   "outputs": [
    {
     "data": {
      "text/plain": [
       "(4, 5)"
      ]
     },
     "execution_count": 45,
     "metadata": {},
     "output_type": "execute_result"
    }
   ],
   "source": [
    "test7(4,5)"
   ]
  },
  {
   "cell_type": "code",
   "execution_count": 46,
   "id": "ffcf2ec0-343d-4928-ac4f-c09a6d22e737",
   "metadata": {},
   "outputs": [
    {
     "data": {
      "text/plain": [
       "('poonam', [4, 5, 6, 7])"
      ]
     },
     "execution_count": 46,
     "metadata": {},
     "output_type": "execute_result"
    }
   ],
   "source": [
    "test7(\"poonam\" , [4,5,6,7])"
   ]
  },
  {
   "cell_type": "code",
   "execution_count": 47,
   "id": "c48aa664-3c40-40cd-a480-ece719634689",
   "metadata": {},
   "outputs": [],
   "source": [
    "def test8(x:int,y:int):\n",
    "    return x/y"
   ]
  },
  {
   "cell_type": "code",
   "execution_count": 48,
   "id": "2314ccfc-ea5f-4e7f-8e88-345a64076ad5",
   "metadata": {},
   "outputs": [
    {
     "data": {
      "text/plain": [
       "0.8"
      ]
     },
     "execution_count": 48,
     "metadata": {},
     "output_type": "execute_result"
    }
   ],
   "source": [
    "test8(4,5)"
   ]
  },
  {
   "cell_type": "code",
   "execution_count": 52,
   "id": "3b1889df-48bd-4e2d-a532-5b852fc6f857",
   "metadata": {},
   "outputs": [],
   "source": [
    "def test9(c,d):\n",
    "    \"\"\"this is my function which can take two input and return a addition or concatination\n",
    "    \"\"\"\n",
    "    return c+d"
   ]
  },
  {
   "cell_type": "code",
   "execution_count": 53,
   "id": "aff7c93a-8c14-4a92-a048-176f2fd36f0b",
   "metadata": {},
   "outputs": [
    {
     "data": {
      "text/plain": [
       "9"
      ]
     },
     "execution_count": 53,
     "metadata": {},
     "output_type": "execute_result"
    }
   ],
   "source": [
    "test9(4,5)"
   ]
  },
  {
   "cell_type": "code",
   "execution_count": 54,
   "id": "5aa28feb-b503-4ec6-a8d2-fed3d40f0c1a",
   "metadata": {},
   "outputs": [],
   "source": [
    "def test10(*args):\n",
    "    return args"
   ]
  },
  {
   "cell_type": "code",
   "execution_count": 55,
   "id": "1fa6b298-45f1-4176-a05d-4659135ea27d",
   "metadata": {},
   "outputs": [
    {
     "data": {
      "text/plain": [
       "()"
      ]
     },
     "execution_count": 55,
     "metadata": {},
     "output_type": "execute_result"
    }
   ],
   "source": [
    "test10()"
   ]
  },
  {
   "cell_type": "code",
   "execution_count": 57,
   "id": "3fe87a6b-6a3e-460a-8609-e53f1ccb7a67",
   "metadata": {},
   "outputs": [
    {
     "data": {
      "text/plain": [
       "(2, 3, 4, 5, 6, 6)"
      ]
     },
     "execution_count": 57,
     "metadata": {},
     "output_type": "execute_result"
    }
   ],
   "source": [
    "test10(2,3,4,5,6,6)"
   ]
  },
  {
   "cell_type": "code",
   "execution_count": 58,
   "id": "788e2cff-c407-455c-a946-0bdb17afb7bd",
   "metadata": {},
   "outputs": [],
   "source": [
    "def test11(*poonam):\n",
    "    return poonam"
   ]
  },
  {
   "cell_type": "code",
   "execution_count": 59,
   "id": "d3be3ad6-2c99-45bd-9ff3-5212d22ab97f",
   "metadata": {},
   "outputs": [
    {
     "data": {
      "text/plain": [
       "(3, 4, 56, 6)"
      ]
     },
     "execution_count": 59,
     "metadata": {},
     "output_type": "execute_result"
    }
   ],
   "source": [
    "test11(3,4,56,6)"
   ]
  },
  {
   "cell_type": "code",
   "execution_count": 60,
   "id": "b64d48df-afb4-47dd-ba4a-901d784bcd75",
   "metadata": {},
   "outputs": [],
   "source": [
    "def test12(**kwargs):\n",
    "    return kwargs"
   ]
  },
  {
   "cell_type": "code",
   "execution_count": 61,
   "id": "1226b76b-d91b-4293-8849-39d5a55726f9",
   "metadata": {},
   "outputs": [
    {
     "data": {
      "text/plain": [
       "{'a': 4, 'b': 5, 'c': 6}"
      ]
     },
     "execution_count": 61,
     "metadata": {},
     "output_type": "execute_result"
    }
   ],
   "source": [
    "test12(a =4,b = 5,c = 6)"
   ]
  },
  {
   "cell_type": "code",
   "execution_count": 62,
   "id": "df867cbd-6561-497c-9082-3d534402d361",
   "metadata": {},
   "outputs": [
    {
     "data": {
      "text/plain": [
       "{'n': {'a': 4, 'b': 5, 'c': 6}}"
      ]
     },
     "execution_count": 62,
     "metadata": {},
     "output_type": "execute_result"
    }
   ],
   "source": [
    "test12(n = {'a':4, 'b':5, 'c':6})"
   ]
  },
  {
   "cell_type": "code",
   "execution_count": 63,
   "id": "ac8bb628-9912-4654-988b-279c4ab9b49a",
   "metadata": {},
   "outputs": [],
   "source": [
    "def test13(b , a = 10 , c = 20):\n",
    "    return a,b,c"
   ]
  },
  {
   "cell_type": "code",
   "execution_count": 64,
   "id": "7748ec2d-1018-4669-be0f-b993cbbe5ea6",
   "metadata": {},
   "outputs": [
    {
     "data": {
      "text/plain": [
       "(10, 56, 20)"
      ]
     },
     "execution_count": 64,
     "metadata": {},
     "output_type": "execute_result"
    }
   ],
   "source": [
    "test13(56)"
   ]
  },
  {
   "cell_type": "code",
   "execution_count": 65,
   "id": "7984bbae-1b17-4422-9d43-c722f7051eb1",
   "metadata": {},
   "outputs": [
    {
     "data": {
      "text/plain": [
       "(45, 34, 20)"
      ]
     },
     "execution_count": 65,
     "metadata": {},
     "output_type": "execute_result"
    }
   ],
   "source": [
    "test13(34, a =45)"
   ]
  },
  {
   "cell_type": "code",
   "execution_count": 3,
   "id": "f3f96cb8-2867-46a8-b2aa-5b167c862638",
   "metadata": {},
   "outputs": [],
   "source": [
    "def test14(a,b) :\n",
    "    return a+b"
   ]
  },
  {
   "cell_type": "code",
   "execution_count": 4,
   "id": "0bcfa0cd-bee1-4526-9b2a-5d85ed7e3a7c",
   "metadata": {},
   "outputs": [
    {
     "data": {
      "text/plain": [
       "11"
      ]
     },
     "execution_count": 4,
     "metadata": {},
     "output_type": "execute_result"
    }
   ],
   "source": [
    "test14(5,6)"
   ]
  },
  {
   "cell_type": "code",
   "execution_count": 5,
   "id": "fe9f1fd5-f1ae-4afd-91e5-d737384cb472",
   "metadata": {},
   "outputs": [],
   "source": [
    "m = lambda a,b : a+b"
   ]
  },
  {
   "cell_type": "code",
   "execution_count": 6,
   "id": "c8a49056-267a-47a4-8d3e-41f2bb14f6a4",
   "metadata": {},
   "outputs": [
    {
     "data": {
      "text/plain": [
       "<function __main__.<lambda>(a, b)>"
      ]
     },
     "execution_count": 6,
     "metadata": {},
     "output_type": "execute_result"
    }
   ],
   "source": [
    "m"
   ]
  },
  {
   "cell_type": "code",
   "execution_count": 7,
   "id": "7a0db50b-18a5-4537-8d43-33c2dfe0cf65",
   "metadata": {},
   "outputs": [
    {
     "data": {
      "text/plain": [
       "<function __main__.test14(a, b)>"
      ]
     },
     "execution_count": 7,
     "metadata": {},
     "output_type": "execute_result"
    }
   ],
   "source": [
    "test14"
   ]
  },
  {
   "cell_type": "code",
   "execution_count": 8,
   "id": "0273a75e-9ebd-4a66-8306-7605c7b0e47b",
   "metadata": {},
   "outputs": [
    {
     "data": {
      "text/plain": [
       "7"
      ]
     },
     "execution_count": 8,
     "metadata": {},
     "output_type": "execute_result"
    }
   ],
   "source": [
    "m(3,4)"
   ]
  },
  {
   "cell_type": "code",
   "execution_count": 9,
   "id": "ba65593f-a34a-4e0d-818b-852b00309d7f",
   "metadata": {},
   "outputs": [],
   "source": [
    "def check_even(n):\n",
    "    if n%2 ==0:\n",
    "        return \"give number is an even number\"\n",
    "    else :\n",
    "        return\"given number not an even number\""
   ]
  },
  {
   "cell_type": "code",
   "execution_count": 13,
   "id": "3e00992b-fe9a-4a1f-9f53-f968318a515b",
   "metadata": {},
   "outputs": [],
   "source": [
    "b = lambda n : \"given number is an even number\" if n%2 ==0 else \"given number not an even number\""
   ]
  },
  {
   "cell_type": "code",
   "execution_count": 14,
   "id": "a577bf12-f0a0-4e47-9dcd-541574af3f56",
   "metadata": {},
   "outputs": [
    {
     "data": {
      "text/plain": [
       "'given number is an even number'"
      ]
     },
     "execution_count": 14,
     "metadata": {},
     "output_type": "execute_result"
    }
   ],
   "source": [
    "b(4)"
   ]
  },
  {
   "cell_type": "code",
   "execution_count": 15,
   "id": "e13b605d-2d29-4599-8ec2-30332b196731",
   "metadata": {},
   "outputs": [
    {
     "data": {
      "text/plain": [
       "'given number not an even number'"
      ]
     },
     "execution_count": 15,
     "metadata": {},
     "output_type": "execute_result"
    }
   ],
   "source": [
    "b(3)"
   ]
  },
  {
   "cell_type": "code",
   "execution_count": 10,
   "id": "abdd7241-eb09-404a-a09b-bddd74056caf",
   "metadata": {},
   "outputs": [
    {
     "data": {
      "text/plain": [
       "'given number not an even number'"
      ]
     },
     "execution_count": 10,
     "metadata": {},
     "output_type": "execute_result"
    }
   ],
   "source": [
    "check_even(3)"
   ]
  },
  {
   "cell_type": "code",
   "execution_count": 11,
   "id": "90911987-fcc9-40e5-b6ce-214e4380979c",
   "metadata": {},
   "outputs": [
    {
     "data": {
      "text/plain": [
       "1"
      ]
     },
     "execution_count": 11,
     "metadata": {},
     "output_type": "execute_result"
    }
   ],
   "source": [
    "3%2"
   ]
  },
  {
   "cell_type": "code",
   "execution_count": 16,
   "id": "2b52ca9a-0985-4f33-8b6d-6c5fe03b2721",
   "metadata": {},
   "outputs": [],
   "source": [
    "l = [3,4,5,76,3,3,3,4,5]\n",
    "min_list = lambda li : min(li)"
   ]
  },
  {
   "cell_type": "code",
   "execution_count": 17,
   "id": "0537688e-eeba-4792-93b8-2325b75492b4",
   "metadata": {},
   "outputs": [
    {
     "data": {
      "text/plain": [
       "3"
      ]
     },
     "execution_count": 17,
     "metadata": {},
     "output_type": "execute_result"
    }
   ],
   "source": [
    "min_list(l)"
   ]
  },
  {
   "cell_type": "code",
   "execution_count": 18,
   "id": "0c47f0c8-6fff-4344-9e0a-f54d31d6ae3e",
   "metadata": {},
   "outputs": [],
   "source": [
    "div = lambda a,b: a/b"
   ]
  },
  {
   "cell_type": "code",
   "execution_count": 19,
   "id": "24bede73-69b1-4385-9f85-b5b7c057c077",
   "metadata": {},
   "outputs": [
    {
     "data": {
      "text/plain": [
       "0.8333333333333334"
      ]
     },
     "execution_count": 19,
     "metadata": {},
     "output_type": "execute_result"
    }
   ],
   "source": [
    "div(5,6)"
   ]
  },
  {
   "cell_type": "code",
   "execution_count": 20,
   "id": "2e141bea-aa3c-4e94-83a0-86c99f83edd5",
   "metadata": {},
   "outputs": [],
   "source": [
    "upper = lambda s : s.upper()"
   ]
  },
  {
   "cell_type": "code",
   "execution_count": 21,
   "id": "de902601-5c0c-420d-bf1e-d09173020a05",
   "metadata": {},
   "outputs": [
    {
     "data": {
      "text/plain": [
       "'POONAM'"
      ]
     },
     "execution_count": 21,
     "metadata": {},
     "output_type": "execute_result"
    }
   ],
   "source": [
    "upper(\"poonam\")"
   ]
  },
  {
   "cell_type": "code",
   "execution_count": 23,
   "id": "9b20085d-8de3-487b-8bc9-b1b7391263a7",
   "metadata": {},
   "outputs": [],
   "source": [
    "l = [3,4,5,6,7,2,3,34,5,56]\n",
    "def sum_odd(b):\n",
    "    l1 = []\n",
    "    for i in b :\n",
    "        if i%2!=0:\n",
    "            l1.append(i)\n",
    "    return sum(l1)        "
   ]
  },
  {
   "cell_type": "code",
   "execution_count": 24,
   "id": "368f60d3-728a-4527-bc44-c4c88fdd0e7d",
   "metadata": {},
   "outputs": [
    {
     "data": {
      "text/plain": [
       "23"
      ]
     },
     "execution_count": 24,
     "metadata": {},
     "output_type": "execute_result"
    }
   ],
   "source": [
    "sum_odd(l)"
   ]
  },
  {
   "cell_type": "code",
   "execution_count": 27,
   "id": "ebb3a482-7ac1-46e4-b0ab-c6d16d870211",
   "metadata": {},
   "outputs": [
    {
     "data": {
      "text/plain": [
       "23"
      ]
     },
     "execution_count": 27,
     "metadata": {},
     "output_type": "execute_result"
    }
   ],
   "source": [
    "sum([i for i in l if i%2!=0])"
   ]
  },
  {
   "cell_type": "code",
   "execution_count": 28,
   "id": "2517204b-3a4d-4c5c-8692-c5b2ecac84b1",
   "metadata": {},
   "outputs": [],
   "source": [
    "sum_off_lambda = lambda b : sum([i for i in b if i%2!=0])"
   ]
  },
  {
   "cell_type": "code",
   "execution_count": 29,
   "id": "b9fb17eb-ee6f-4004-8db1-40d64aea1060",
   "metadata": {},
   "outputs": [
    {
     "data": {
      "text/plain": [
       "23"
      ]
     },
     "execution_count": 29,
     "metadata": {},
     "output_type": "execute_result"
    }
   ],
   "source": [
    "sum_off_lambda(l)"
   ]
  },
  {
   "cell_type": "code",
   "execution_count": 2,
   "id": "50c03b5f-2b26-48a1-96f3-526281674906",
   "metadata": {},
   "outputs": [],
   "source": [
    "def fact_number(n):\n",
    "    if n == 0 :\n",
    "        return 1\n",
    "    else :\n",
    "        return n*fact_number(n-1)\n",
    "    "
   ]
  },
  {
   "cell_type": "code",
   "execution_count": 4,
   "id": "df9fb0eb-9dc3-4a8f-a47f-3947ce21670e",
   "metadata": {},
   "outputs": [
    {
     "data": {
      "text/plain": [
       "24"
      ]
     },
     "execution_count": 4,
     "metadata": {},
     "output_type": "execute_result"
    }
   ],
   "source": [
    "fact_number(4)"
   ]
  },
  {
   "cell_type": "code",
   "execution_count": 5,
   "id": "5fced71e-a4d0-4f9f-ae55-3f277046dd5c",
   "metadata": {},
   "outputs": [
    {
     "data": {
      "text/plain": [
       "1"
      ]
     },
     "execution_count": 5,
     "metadata": {},
     "output_type": "execute_result"
    }
   ],
   "source": [
    "fact_number(0)"
   ]
  },
  {
   "cell_type": "code",
   "execution_count": 8,
   "id": "0d389ad4-c39b-4dbb-b7fb-a4a1c671a61a",
   "metadata": {},
   "outputs": [],
   "source": [
    "def fact_num(n) :\n",
    "    a = 1\n",
    "    for i in range(1,n+1):\n",
    "        a = i *a\n",
    "        \n",
    "    return a   "
   ]
  },
  {
   "cell_type": "code",
   "execution_count": 11,
   "id": "c76f6fe2-6471-4f27-8aa5-7b13c565d532",
   "metadata": {},
   "outputs": [],
   "source": [
    "fact_num_lambda = lambda n : 1 if n == 0 else n*fact_num_lambda(n-1)"
   ]
  },
  {
   "cell_type": "code",
   "execution_count": 12,
   "id": "e9229477-dc0a-411c-ac66-bdeb7f990e35",
   "metadata": {},
   "outputs": [
    {
     "data": {
      "text/plain": [
       "120"
      ]
     },
     "execution_count": 12,
     "metadata": {},
     "output_type": "execute_result"
    }
   ],
   "source": [
    "fact_num_lambda(5)"
   ]
  },
  {
   "cell_type": "code",
   "execution_count": 9,
   "id": "1d86781d-a2aa-423f-a832-b932f267c293",
   "metadata": {},
   "outputs": [
    {
     "data": {
      "text/plain": [
       "24"
      ]
     },
     "execution_count": 9,
     "metadata": {},
     "output_type": "execute_result"
    }
   ],
   "source": [
    "fact_num(4)"
   ]
  },
  {
   "cell_type": "code",
   "execution_count": 13,
   "id": "ccf0452a-5a6b-4af7-a92a-03a6a2dd8a81",
   "metadata": {},
   "outputs": [],
   "source": [
    "l = [5,6,7,8,89]\n",
    "\n",
    "l1 = []\n",
    "for i in l:\n",
    "    l1.append(i+2)"
   ]
  },
  {
   "cell_type": "code",
   "execution_count": 14,
   "id": "73719e8c-c51c-4960-838d-fbd368af4005",
   "metadata": {},
   "outputs": [
    {
     "data": {
      "text/plain": [
       "[7, 8, 9, 10, 91]"
      ]
     },
     "execution_count": 14,
     "metadata": {},
     "output_type": "execute_result"
    }
   ],
   "source": [
    "l1"
   ]
  },
  {
   "cell_type": "code",
   "execution_count": 15,
   "id": "f6b18a7a-ae4f-4c02-8ba4-b784e7fe2fcf",
   "metadata": {},
   "outputs": [],
   "source": [
    "def add_list(l):\n",
    "    l1 =[]\n",
    "    for i in l:\n",
    "        l1.append(i+2)\n",
    "    return l1    "
   ]
  },
  {
   "cell_type": "code",
   "execution_count": 24,
   "id": "3419a959-6952-4520-81cd-44e6baa640d6",
   "metadata": {},
   "outputs": [
    {
     "data": {
      "text/plain": [
       "[5, 6, 7, 8, 9]"
      ]
     },
     "execution_count": 24,
     "metadata": {},
     "output_type": "execute_result"
    }
   ],
   "source": [
    "add_list([3,4,5,6,7])"
   ]
  },
  {
   "cell_type": "code",
   "execution_count": 17,
   "id": "bb8f4c91-4b18-4196-852f-0a8b0fbaa317",
   "metadata": {},
   "outputs": [],
   "source": [
    "v = lambda a : a+2"
   ]
  },
  {
   "cell_type": "code",
   "execution_count": 18,
   "id": "d6d0fe30-307a-4dd5-99e2-71e1412f4ee6",
   "metadata": {},
   "outputs": [
    {
     "data": {
      "text/plain": [
       "12"
      ]
     },
     "execution_count": 18,
     "metadata": {},
     "output_type": "execute_result"
    }
   ],
   "source": [
    "v(10)"
   ]
  },
  {
   "cell_type": "code",
   "execution_count": 25,
   "id": "7d007359-e535-4edb-8c7e-a05bc8de0b53",
   "metadata": {},
   "outputs": [
    {
     "data": {
      "text/plain": [
       "[5, 6, 7, 8, 89]"
      ]
     },
     "execution_count": 25,
     "metadata": {},
     "output_type": "execute_result"
    }
   ],
   "source": [
    "l"
   ]
  },
  {
   "cell_type": "code",
   "execution_count": 30,
   "id": "f08f1ea4-5fc4-4efe-8795-6501d8549851",
   "metadata": {},
   "outputs": [
    {
     "data": {
      "text/plain": [
       "[7, 8, 9, 10, 91]"
      ]
     },
     "execution_count": 30,
     "metadata": {},
     "output_type": "execute_result"
    }
   ],
   "source": [
    "list(map(lambda a : a+2,l))"
   ]
  },
  {
   "cell_type": "code",
   "execution_count": 32,
   "id": "87a4596b-7dd0-4e93-b5e9-2d3c7e0f4f07",
   "metadata": {},
   "outputs": [],
   "source": [
    "def test34(c):\n",
    "    return c+2"
   ]
  },
  {
   "cell_type": "code",
   "execution_count": 33,
   "id": "835c2ef5-9f18-4d74-aee8-1818eb5d4ce2",
   "metadata": {},
   "outputs": [
    {
     "data": {
      "text/plain": [
       "[7, 8, 9, 10, 91]"
      ]
     },
     "execution_count": 33,
     "metadata": {},
     "output_type": "execute_result"
    }
   ],
   "source": [
    "list(map(test34 ,l))"
   ]
  },
  {
   "cell_type": "code",
   "execution_count": 34,
   "id": "0b560931-d10e-47bc-9d92-8fc2edec8d49",
   "metadata": {},
   "outputs": [
    {
     "data": {
      "text/plain": [
       "7"
      ]
     },
     "execution_count": 34,
     "metadata": {},
     "output_type": "execute_result"
    }
   ],
   "source": [
    "test34(5)"
   ]
  },
  {
   "cell_type": "code",
   "execution_count": 35,
   "id": "b3ea0783-6797-4e89-a5d2-8c45794b8b3b",
   "metadata": {},
   "outputs": [
    {
     "data": {
      "text/plain": [
       "9"
      ]
     },
     "execution_count": 35,
     "metadata": {},
     "output_type": "execute_result"
    }
   ],
   "source": [
    "test34(7)"
   ]
  },
  {
   "cell_type": "code",
   "execution_count": 36,
   "id": "93e89e88-84e4-4d0d-88ca-ceca3fbce616",
   "metadata": {},
   "outputs": [
    {
     "data": {
      "text/plain": [
       "91"
      ]
     },
     "execution_count": 36,
     "metadata": {},
     "output_type": "execute_result"
    }
   ],
   "source": [
    "test34(89)"
   ]
  },
  {
   "cell_type": "code",
   "execution_count": 37,
   "id": "7f0ce454-29b2-414a-a367-9bb57ed1131a",
   "metadata": {},
   "outputs": [],
   "source": [
    "l = ['poonam' , 'saini' , 'pwskills']"
   ]
  },
  {
   "cell_type": "code",
   "execution_count": 38,
   "id": "aa15df15-9bd2-4562-a696-66eeb12aa70b",
   "metadata": {},
   "outputs": [
    {
     "data": {
      "text/plain": [
       "6"
      ]
     },
     "execution_count": 38,
     "metadata": {},
     "output_type": "execute_result"
    }
   ],
   "source": [
    "len('poonam')"
   ]
  },
  {
   "cell_type": "code",
   "execution_count": 39,
   "id": "4aefb88c-e8b3-4b1e-8174-5955c38cf6c0",
   "metadata": {},
   "outputs": [
    {
     "data": {
      "text/plain": [
       "5"
      ]
     },
     "execution_count": 39,
     "metadata": {},
     "output_type": "execute_result"
    }
   ],
   "source": [
    "len('saini')"
   ]
  },
  {
   "cell_type": "code",
   "execution_count": 40,
   "id": "3b6d9143-39bf-4c20-9682-5525897fdc05",
   "metadata": {},
   "outputs": [
    {
     "data": {
      "text/plain": [
       "8"
      ]
     },
     "execution_count": 40,
     "metadata": {},
     "output_type": "execute_result"
    }
   ],
   "source": [
    "len('pwskills')"
   ]
  },
  {
   "cell_type": "code",
   "execution_count": 41,
   "id": "566fe205-8625-4fc4-bc2b-85dafdd62544",
   "metadata": {},
   "outputs": [
    {
     "data": {
      "text/plain": [
       "[4, 5, 8]"
      ]
     },
     "execution_count": 41,
     "metadata": {},
     "output_type": "execute_result"
    }
   ],
   "source": [
    "[4,5,8]"
   ]
  },
  {
   "cell_type": "code",
   "execution_count": 42,
   "id": "a6321542-8775-41a2-8638-33fdc4ba7b46",
   "metadata": {},
   "outputs": [],
   "source": [
    "l1 = []\n",
    "for i in l :\n",
    "    l1.append(len(i))"
   ]
  },
  {
   "cell_type": "code",
   "execution_count": 43,
   "id": "e790d1a1-41e5-46d4-8a87-f8659d87be02",
   "metadata": {},
   "outputs": [
    {
     "data": {
      "text/plain": [
       "[6, 5, 8]"
      ]
     },
     "execution_count": 43,
     "metadata": {},
     "output_type": "execute_result"
    }
   ],
   "source": [
    "l1"
   ]
  },
  {
   "cell_type": "code",
   "execution_count": 44,
   "id": "4cea52bf-f618-4bad-87ec-45b315975fab",
   "metadata": {},
   "outputs": [],
   "source": [
    "def test35(l):\n",
    "    l1 = []\n",
    "    for i in l :\n",
    "        l1.append(len(i))\n",
    "    return l1    "
   ]
  },
  {
   "cell_type": "code",
   "execution_count": 45,
   "id": "054e1b0b-0b64-45c4-9259-2675297b90fd",
   "metadata": {},
   "outputs": [
    {
     "data": {
      "text/plain": [
       "[6, 5, 8]"
      ]
     },
     "execution_count": 45,
     "metadata": {},
     "output_type": "execute_result"
    }
   ],
   "source": [
    "test35(l)"
   ]
  },
  {
   "cell_type": "code",
   "execution_count": 47,
   "id": "f8a503ad-5c41-4eb1-8dfe-38e8eb552bba",
   "metadata": {},
   "outputs": [
    {
     "data": {
      "text/plain": [
       "[6, 5, 8]"
      ]
     },
     "execution_count": 47,
     "metadata": {},
     "output_type": "execute_result"
    }
   ],
   "source": [
    "list(map(lambda c : len(c) , l))\n"
   ]
  },
  {
   "cell_type": "code",
   "execution_count": 48,
   "id": "00a48c72-9a5f-4a7f-9a20-1312fec7b268",
   "metadata": {},
   "outputs": [],
   "source": [
    "def test36(c):\n",
    "    return len(c)"
   ]
  },
  {
   "cell_type": "code",
   "execution_count": 49,
   "id": "be45bb24-609d-47c8-8fc6-8a8bc3407595",
   "metadata": {},
   "outputs": [
    {
     "data": {
      "text/plain": [
       "[6, 5, 8]"
      ]
     },
     "execution_count": 49,
     "metadata": {},
     "output_type": "execute_result"
    }
   ],
   "source": [
    "list (map(test36 , l))"
   ]
  },
  {
   "cell_type": "code",
   "execution_count": 50,
   "id": "46594552-c957-480c-98e9-1d4db18fb93e",
   "metadata": {},
   "outputs": [
    {
     "data": {
      "text/plain": [
       "['poonam', 'saini', 'pwskills']"
      ]
     },
     "execution_count": 50,
     "metadata": {},
     "output_type": "execute_result"
    }
   ],
   "source": [
    "l"
   ]
  },
  {
   "cell_type": "code",
   "execution_count": 54,
   "id": "72ca5abc-d8f4-4ce0-b318-3b29d9585ea9",
   "metadata": {},
   "outputs": [
    {
     "data": {
      "text/plain": [
       "['pwskills', 'saini', 'poonam']"
      ]
     },
     "execution_count": 54,
     "metadata": {},
     "output_type": "execute_result"
    }
   ],
   "source": [
    "l[::-1]"
   ]
  },
  {
   "cell_type": "code",
   "execution_count": 55,
   "id": "178f2017-06e9-44c0-88f1-7cc95cc32a50",
   "metadata": {},
   "outputs": [],
   "source": [
    "s = \"poonam\""
   ]
  },
  {
   "cell_type": "code",
   "execution_count": 56,
   "id": "93fffbbb-4a64-4250-95fe-1f087f6de9c4",
   "metadata": {},
   "outputs": [
    {
     "data": {
      "text/plain": [
       "'manoop'"
      ]
     },
     "execution_count": 56,
     "metadata": {},
     "output_type": "execute_result"
    }
   ],
   "source": [
    "s[::-1]"
   ]
  },
  {
   "cell_type": "code",
   "execution_count": 57,
   "id": "204b7792-e628-4ca8-b090-786a3ee2c6af",
   "metadata": {},
   "outputs": [],
   "source": [
    "s = \"saini\""
   ]
  },
  {
   "cell_type": "code",
   "execution_count": 59,
   "id": "6c1bb1fe-29ca-47dc-9eef-b1735ce06425",
   "metadata": {},
   "outputs": [
    {
     "data": {
      "text/plain": [
       "'inias'"
      ]
     },
     "execution_count": 59,
     "metadata": {},
     "output_type": "execute_result"
    }
   ],
   "source": [
    "s[::-1]"
   ]
  },
  {
   "cell_type": "code",
   "execution_count": 60,
   "id": "f02c0de8-1ed7-40ac-8cb0-0fd9ec98dc48",
   "metadata": {},
   "outputs": [
    {
     "data": {
      "text/plain": [
       "['manoop', 'inias', 'sllikswp']"
      ]
     },
     "execution_count": 60,
     "metadata": {},
     "output_type": "execute_result"
    }
   ],
   "source": [
    "list (map(lambda a : a[::-1] ,l))"
   ]
  },
  {
   "cell_type": "code",
   "execution_count": 62,
   "id": "dadd87c9-808d-4b45-8023-a18ebc5cba71",
   "metadata": {},
   "outputs": [],
   "source": [
    "l = [2,3,4,5,6,6]\n",
    "from functools import reduce"
   ]
  },
  {
   "cell_type": "code",
   "execution_count": 64,
   "id": "412cc90b-f2bb-4637-8690-a39a78fa7ebd",
   "metadata": {},
   "outputs": [
    {
     "data": {
      "text/plain": [
       "4320"
      ]
     },
     "execution_count": 64,
     "metadata": {},
     "output_type": "execute_result"
    }
   ],
   "source": [
    "reduce(lambda a,b :a*b , l)"
   ]
  },
  {
   "cell_type": "code",
   "execution_count": 65,
   "id": "4f26dbb0-1673-4623-82dd-4518edd66085",
   "metadata": {},
   "outputs": [
    {
     "data": {
      "text/plain": [
       "[2, 3, 4, 5, 6, 6]"
      ]
     },
     "execution_count": 65,
     "metadata": {},
     "output_type": "execute_result"
    }
   ],
   "source": [
    "l"
   ]
  },
  {
   "cell_type": "code",
   "execution_count": 14,
   "id": "ab10588f-2b69-4579-9eb5-bdb4a8312e91",
   "metadata": {},
   "outputs": [],
   "source": [
    "l = [3,4,5,6,76,3,32,2,4,5,5,5]"
   ]
  },
  {
   "cell_type": "code",
   "execution_count": 16,
   "id": "2b3d3cab-6016-4002-ab92-938abeb7ca50",
   "metadata": {},
   "outputs": [
    {
     "data": {
      "text/plain": [
       "[4, 6, 76, 32, 2, 4]"
      ]
     },
     "execution_count": 16,
     "metadata": {},
     "output_type": "execute_result"
    }
   ],
   "source": [
    "list(filter(lambda a : a%2==0 , l))"
   ]
  },
  {
   "cell_type": "code",
   "execution_count": 19,
   "id": "cfff8785-97d0-4d12-aa12-2e5170d39683",
   "metadata": {},
   "outputs": [],
   "source": [
    "s = \"PW Skills\""
   ]
  },
  {
   "cell_type": "code",
   "execution_count": 20,
   "id": "9a75262a-2ee5-4b94-aa99-c3e1df6e92a7",
   "metadata": {},
   "outputs": [
    {
     "data": {
      "text/plain": [
       "['k', 'i', 'l', 'l', 's']"
      ]
     },
     "execution_count": 20,
     "metadata": {},
     "output_type": "execute_result"
    }
   ],
   "source": [
    "list(filter(lambda a :a.islower() , s))"
   ]
  },
  {
   "cell_type": "code",
   "execution_count": 21,
   "id": "17f6131c-3e6b-4993-826f-349e53ccb648",
   "metadata": {},
   "outputs": [],
   "source": [
    "l = [\"pw\" , \"pwskills\" , \"poonam\" , \"krish\"]"
   ]
  },
  {
   "cell_type": "code",
   "execution_count": 22,
   "id": "458989a2-e306-432f-a3ed-22c84d632390",
   "metadata": {},
   "outputs": [
    {
     "data": {
      "text/plain": [
       "['pw']"
      ]
     },
     "execution_count": 22,
     "metadata": {},
     "output_type": "execute_result"
    }
   ],
   "source": [
    "list(filter(lambda a : len(a)<=4 ,l))"
   ]
  },
  {
   "cell_type": "code",
   "execution_count": 23,
   "id": "f4c6fa36-b746-4307-a703-b1c93c90b139",
   "metadata": {},
   "outputs": [
    {
     "data": {
      "text/plain": [
       "['pw', 'pwskills', 'poonam', 'krish']"
      ]
     },
     "execution_count": 23,
     "metadata": {},
     "output_type": "execute_result"
    }
   ],
   "source": [
    "l"
   ]
  },
  {
   "cell_type": "code",
   "execution_count": 26,
   "id": "acd127e7-d36d-4d15-bfca-94e4de6f3199",
   "metadata": {},
   "outputs": [
    {
     "data": {
      "text/plain": [
       "['pw', 'pwskills', 'poonam']"
      ]
     },
     "execution_count": 26,
     "metadata": {},
     "output_type": "execute_result"
    }
   ],
   "source": [
    "list(filter(lambda a : a[0]=='p', l))"
   ]
  },
  {
   "cell_type": "code",
   "execution_count": 28,
   "id": "c42025bc-9084-441a-8eee-a33fb962ea3f",
   "metadata": {},
   "outputs": [],
   "source": [
    "def gen_fib(n):\n",
    "    if n <=1 :\n",
    "        return n\n",
    "    else:\n",
    "        return gen_fib(n-1) + gen_fib(n-2)"
   ]
  },
  {
   "cell_type": "code",
   "execution_count": 31,
   "id": "403c8ef2-77c6-4f4b-912d-cc08a51c5607",
   "metadata": {},
   "outputs": [
    {
     "data": {
      "text/plain": [
       "2"
      ]
     },
     "execution_count": 31,
     "metadata": {},
     "output_type": "execute_result"
    }
   ],
   "source": [
    "gen_fib(3)"
   ]
  },
  {
   "cell_type": "code",
   "execution_count": null,
   "id": "5888dbf9-407c-4e98-9f4a-feb14a945366",
   "metadata": {},
   "outputs": [],
   "source": [
    "100 --"
   ]
  },
  {
   "cell_type": "code",
   "execution_count": 33,
   "id": "41987556-6edd-4f52-8131-6663e8ca7ca4",
   "metadata": {},
   "outputs": [],
   "source": [
    "def sum_till_n(n) :\n",
    "    if n ==1 :\n",
    "        return 1\n",
    "    else :\n",
    "        return n+ sum_till_n(n-1)\n",
    "    "
   ]
  },
  {
   "cell_type": "code",
   "execution_count": 34,
   "id": "c06910c4-fc28-4dd2-8afb-7d6cc55aea95",
   "metadata": {},
   "outputs": [
    {
     "data": {
      "text/plain": [
       "15"
      ]
     },
     "execution_count": 34,
     "metadata": {},
     "output_type": "execute_result"
    }
   ],
   "source": [
    "sum_till_n(5)"
   ]
  },
  {
   "cell_type": "code",
   "execution_count": null,
   "id": "a101fcac-0f01-45e5-8422-3a11d98405c4",
   "metadata": {},
   "outputs": [],
   "source": []
  }
 ],
 "metadata": {
  "kernelspec": {
   "display_name": "Python 3 (ipykernel)",
   "language": "python",
   "name": "python3"
  },
  "language_info": {
   "codemirror_mode": {
    "name": "ipython",
    "version": 3
   },
   "file_extension": ".py",
   "mimetype": "text/x-python",
   "name": "python",
   "nbconvert_exporter": "python",
   "pygments_lexer": "ipython3",
   "version": "3.10.8"
  }
 },
 "nbformat": 4,
 "nbformat_minor": 5
}
